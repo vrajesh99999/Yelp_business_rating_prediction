{
 "cells": [
  {
   "cell_type": "markdown",
   "metadata": {},
   "source": [
    "# Mini Project - 1"
   ]
  },
  {
   "cell_type": "code",
   "execution_count": 1,
   "metadata": {},
   "outputs": [],
   "source": [
    "import json\n",
    "import csv\n",
    "import pandas as pd\n",
    "import os\n",
    "import numpy as np\n",
    "import string"
   ]
  },
  {
   "cell_type": "markdown",
   "metadata": {},
   "source": [
    "Converting json to csv of review file"
   ]
  },
  {
   "cell_type": "code",
   "execution_count": null,
   "metadata": {},
   "outputs": [],
   "source": [
    "outfile = open(\"review_stars.tsv\", 'w')\n",
    "sfile = csv.writer(outfile, delimiter =\"\\t\", quoting=csv.QUOTE_MINIMAL)\n",
    "sfile.writerow(['business_id','stars', 'text'])\n",
    "with open('yelp_academic_dataset_review.json',encoding=\"utf-8\") as f:    # encoding added\n",
    "    for line in f:\n",
    "        row = json.loads(line)\n",
    "        sfile.writerow([row['business_id'], row['stars'], (row['text']).encode('utf-8')])\n",
    "outfile.close()"
   ]
  },
  {
   "cell_type": "code",
   "execution_count": 2,
   "metadata": {},
   "outputs": [],
   "source": [
    "df_reviews = pd.read_csv('review_stars.tsv', delimiter =\"\\t\",encoding=\"utf-8\")"
   ]
  },
  {
   "cell_type": "code",
   "execution_count": null,
   "metadata": {},
   "outputs": [],
   "source": [
    "#json to csv of business file\n",
    "\n",
    "outfile = open(\"business.tsv\", 'w')\n",
    "sfile = csv.writer(outfile, delimiter =\"\\t\", quoting=csv.QUOTE_MINIMAL)\n",
    "sfile.writerow(['business_id','stars', 'categories','review_count'])\n",
    "with open('yelp_academic_dataset_business.json',encoding=\"utf-8\") as f:\n",
    "    for line in f:\n",
    "        row = json.loads(line)\n",
    "        sfile.writerow([row['business_id'], row['stars'], row['categories'],row['review_count']])\n",
    "outfile.close()"
   ]
  },
  {
   "cell_type": "code",
   "execution_count": 3,
   "metadata": {},
   "outputs": [],
   "source": [
    "df_business = pd.read_csv('business.tsv', delimiter =\"\\t\", encoding=\"utf-8\", nrows=10000)"
   ]
  },
  {
   "cell_type": "code",
   "execution_count": 4,
   "metadata": {},
   "outputs": [],
   "source": [
    "# Grouping of reviews(Text) by BusinessId\n",
    "\n",
    "review_agg = df_reviews.groupby('business_id')['text'].sum()     #grouping\n",
    "df_review_agg = pd.DataFrame({'business_id': review_agg.index, 'all_reviews': review_agg.values}) #dataframe made"
   ]
  },
  {
   "cell_type": "code",
   "execution_count": 5,
   "metadata": {},
   "outputs": [],
   "source": [
    "#Merge on review and business on BusinessID\n",
    "df_review_business = pd.merge(df_review_agg, df_business, on='business_id')"
   ]
  },
  {
   "cell_type": "code",
   "execution_count": 6,
   "metadata": {},
   "outputs": [
    {
     "data": {
      "text/plain": [
       "(10000, 5)"
      ]
     },
     "execution_count": 6,
     "metadata": {},
     "output_type": "execute_result"
    }
   ],
   "source": [
    "df_review_business.shape"
   ]
  },
  {
   "cell_type": "markdown",
   "metadata": {},
   "source": [
    "Normalizing review_count in range 0 to 1 "
   ]
  },
  {
   "cell_type": "code",
   "execution_count": 7,
   "metadata": {},
   "outputs": [],
   "source": [
    "# Encode a column to a range between normalized_low and normalized_high.\n",
    "def encode_numeric_range(df, name, normalized_low=0, normalized_high=1,\n",
    "                         data_low=None, data_high=None):\n",
    "    if data_low is None:\n",
    "        data_low = min(df[name])\n",
    "        data_high = max(df[name])\n",
    "\n",
    "    df[name] = ((df[name] - data_low) / (data_high - data_low)) * (normalized_high - normalized_low) + normalized_low\n"
   ]
  },
  {
   "cell_type": "code",
   "execution_count": 8,
   "metadata": {},
   "outputs": [],
   "source": [
    "encode_numeric_range(df_review_business,'review_count')"
   ]
  },
  {
   "cell_type": "markdown",
   "metadata": {},
   "source": [
    "## TFIDF "
   ]
  },
  {
   "cell_type": "code",
   "execution_count": 9,
   "metadata": {},
   "outputs": [
    {
     "name": "stdout",
     "output_type": "stream",
     "text": [
      "<class 'scipy.sparse.csr.csr_matrix'>\n",
      "[[0.03794956 0.02593188 0.03092031 ... 0.         0.         0.        ]\n",
      " [0.         0.05308725 0.         ... 0.         0.         0.        ]\n",
      " [0.         0.         0.04390887 ... 0.         0.         0.        ]\n",
      " ...\n",
      " [0.         0.         0.         ... 0.         0.         0.        ]\n",
      " [0.         0.         0.         ... 0.         0.         0.        ]\n",
      " [0.         0.         0.         ... 0.11546822 0.         0.        ]]\n",
      "['00', '10', '15', '20', '30', '50', 'able', 'absolutely', 'actually', 'add', 'ago', 'amazing', 'appointment', 'area', 'arrived', 'ask', 'asked', 'ate', 'atmosphere', 'attentive', 'authentic', 'available', 'average', 'away', 'awesome', 'bacon', 'bad', 'bar', 'bbq', 'beautiful', 'beef', 'beer', 'believe', 'best', 'better', 'big', 'birthday', 'bit', 'bite', 'bought', 'bowl', 'bread', 'breakfast', 'bring', 'brought', 'brunch', 'burger', 'burgers', 'burrito', 'business', 'busy', 'buy', 'cafe', 'cake', 'called', 'came', 'car', 'card', 'care', 'change', 'charge', 'cheap', 'check', 'cheese', 'chicken', 'chinese', 'chips', 'chocolate', 'choice', 'choose', 'city', 'clean', 'close', 'coffee', 'cold', 'come', 'comes', 'comfortable', 'coming', 'company', 'completely', 'cooked', 'cool', 'cost', 'couldn', 'counter', 'couple', 'course', 'cream', 'crispy', 'customer', 'customers', 'cut', 'day', 'days', 'deal', 'decent', 'decided', 'decor', 'definitely', 'delicious', 'dessert', 'did', 'didn', 'different', 'dining', 'dinner', 'disappointed', 'dish', 'dishes', 'does', 'doesn', 'dog', 'doing', 'don', 'door', 'dr', 'drink', 'drinks', 'drive', 'dry', 'early', 'easy', 'eat', 'eating', 'egg', 'eggs', 'employees', 'end', 'ended', 'enjoy', 'enjoyed', 'entire', 'especially', 'evening', 'excellent', 'expect', 'expected', 'expensive', 'experience', 'extra', 'extremely', 'fact', 'family', 'fan', 'fantastic', 'far', 'fast', 'favorite', 'feel', 'felt', 'finally', 'fine', 'fish', 'flavor', 'flavors', 'floor', 'food', 'free', 'french', 'fresh', 'friday', 'fried', 'friend', 'friendly', 'friends', 'fries', 'fun', 'gave', 'gets', 'getting', 'girl', 'given', 'glad', 'going', 'gone', 'good', 'got', 'great', 'green', 'grilled', 'group', 'guess', 'guy', 'guys', 'hair', 'half', 'happy', 'hard', 'haven', 'having', 'heard', 'help', 'helpful', 'high', 'highly', 'home', 'horrible', 'hot', 'hotel', 'hour', 'hours', 'house', 'huge', 'husband', 'ice', 'impressed', 'ingredients', 'inside', 'instead', 'isn', 'issue', 'italian', 'items', 'job', 'just', 'kept', 'kids', 'kind', 'kitchen', 'knew', 'know', 'la', 'lady', 'large', 'las', 'late', 'later', 'leave', 'left', 'let', 'life', 'light', 'like', 'liked', 'line', 'list', 'little', 'live', 'll', 'local', 'location', 'long', 'look', 'looked', 'looking', 'looks', 'lot', 'lots', 'love', 'loved', 'lunch', 'main', 'make', 'makes', 'making', 'mall', 'man', 'manager', 'massage', 'maybe', 'meal', 'meat', 'menu', 'mexican', 'mind', 'minutes', 'money', 'month', 'months', 'morning', 'moved', 'music', 'near', 'need', 'needed', 'needs', 'new', 'ni', 'nice', 'nif', 'night', 'nit', 'nmy', 'non', 'nthe', 'nthey', 'nthis', 'number', 'nwe', 'offer', 'offered', 'office', 'oh', 'ok', 'okay', 'old', 'open', 'option', 'options', 'order', 'ordered', 'ordering', 'orders', 'outside', 'overall', 'owner', 'paid', 'parking', 'party', 'past', 'pasta', 'patio', 'pay', 'people', 'perfect', 'perfectly', 'person', 'phone', 'pick', 'pizza', 'place', 'places', 'plate', 'pleasant', 'plenty', 'plus', 'point', 'pool', 'pork', 'portion', 'portions', 'potatoes', 'pretty', 'price', 'priced', 'prices', 'probably', 'problem', 'professional', 'quality', 'quick', 'quickly', 'quite', 'ready', 'real', 'really', 'reason', 'reasonable', 'received', 'recently', 'recommend', 'recommended', 'red', 'regular', 'remember', 'restaurant', 'restaurants', 'return', 'review', 'reviews', 'rice', 'right', 'roll', 'rolls', 'room', 'rooms', 'rude', 'run', 'said', 'salad', 'salon', 'sandwich', 'sandwiches', 'sat', 'saturday', 'sauce', 'saw', 'say', 'seated', 'seating', 'second', 'seen', 'selection', 'serve', 'served', 'server', 'service', 'set', 'shop', 'short', 'shrimp', 'simple', 'sit', 'sitting', 'size', 'slow', 'small', 'soon', 'soup', 'space', 'special', 'spicy', 'spot', 'staff', 'star', 'stars', 'start', 'started', 'stay', 'steak', 'stop', 'stopped', 'store', 'street', 'strip', 'stuff', 'style', 'sunday', 'super', 'sure', 'sushi', 'sweet', 'table', 'tables', 'taco', 'tacos', 'taken', 'taking', 'taste', 'tasted', 'tasty', 'tea', 'tell', 'terrible', 'thai', 'thank', 'thanks', 'thing', 'things', 'think', 'thought', 'time', 'times', 'tip', 'today', 'told', 'took', 'totally', 'town', 'tried', 'trip', 'try', 'trying', 'twice', 'type', 'understand', 'use', 'used', 'usually', 'variety', 've', 'vegas', 'visit', 'wait', 'waited', 'waiter', 'waiting', 'waitress', 'walk', 'walked', 'want', 'wanted', 'warm', 'wasn', 'water', 'way', 'week', 'weekend', 'weeks', 'went', 'white', 'wife', 'wine', 'wings', 'wish', 'won', 'wonderful', 'work', 'working', 'worst', 'worth', 'wouldn', 'wrong', 'xc3', 'year', 'years', 'yelp', 'yes', 'yummy']\n"
     ]
    }
   ],
   "source": [
    "import sklearn.feature_extraction.text as sk_text\n",
    "vectorizer = sk_text.TfidfVectorizer(stop_words='english',\n",
    "                            max_features = 500,\n",
    "                            min_df=1\n",
    "                            #max_df=5\n",
    "                            )\n",
    "\n",
    "#min_df: ignore terms that have a document frequency < min_df.\n",
    "#max_df: ignore terms that have a document frequency > max_df\n",
    "\n",
    "\n",
    "matrix = vectorizer.fit_transform(df_review_business['all_reviews'])\n",
    "print(type(matrix))               # Compressed Sparse Row matrix\n",
    "\n",
    "tfidf_data = matrix.toarray()     #  convert it to numpy array\n",
    "pd.set_option('display.max_colwidth',-1)\n",
    "print(tfidf_data)\n",
    "print(vectorizer.get_feature_names())"
   ]
  },
  {
   "cell_type": "code",
   "execution_count": 10,
   "metadata": {},
   "outputs": [
    {
     "data": {
      "text/plain": [
       "(10000, 500)"
      ]
     },
     "execution_count": 10,
     "metadata": {},
     "output_type": "execute_result"
    }
   ],
   "source": [
    "tfidf_data.shape"
   ]
  },
  {
   "cell_type": "code",
   "execution_count": 11,
   "metadata": {},
   "outputs": [
    {
     "data": {
      "text/plain": [
       "(10000,)"
      ]
     },
     "execution_count": 11,
     "metadata": {},
     "output_type": "execute_result"
    }
   ],
   "source": [
    "#Converting review_count in Numpy Array\n",
    "review_array=df_review_business['review_count'].values\n",
    "review_array.shape"
   ]
  },
  {
   "cell_type": "code",
   "execution_count": 162,
   "metadata": {},
   "outputs": [
    {
     "data": {
      "text/plain": [
       "(10000, 501)"
      ]
     },
     "execution_count": 162,
     "metadata": {},
     "output_type": "execute_result"
    }
   ],
   "source": [
    "#Converting review_count array into vertical stack\n",
    "vertical_review=np.vstack(review_array)\n",
    "#Concatenating review_text tfidf array and review_count array\n",
    "x = np.concatenate((tfidf_data, vertical_review), axis=1)\n",
    "x.shape"
   ]
  },
  {
   "cell_type": "code",
   "execution_count": 163,
   "metadata": {},
   "outputs": [
    {
     "data": {
      "text/plain": [
       "(10000,)"
      ]
     },
     "execution_count": 163,
     "metadata": {},
     "output_type": "execute_result"
    }
   ],
   "source": [
    "y=df_review_business['stars']\n",
    "y.shape"
   ]
  },
  {
   "cell_type": "markdown",
   "metadata": {},
   "source": [
    "### Keeping first 5 data for future testing "
   ]
  },
  {
   "cell_type": "code",
   "execution_count": 164,
   "metadata": {},
   "outputs": [],
   "source": [
    "b_id = df_business['business_id'][0:5]\n",
    "b_id\n",
    "testx = x[0:5]\n",
    "x=x[5:10000]\n",
    "testy = y[0:5]\n",
    "y=y[5:10000]"
   ]
  },
  {
   "cell_type": "markdown",
   "metadata": {},
   "source": [
    "Function to plot confusion matrix"
   ]
  },
  {
   "cell_type": "code",
   "execution_count": 165,
   "metadata": {},
   "outputs": [],
   "source": [
    "%matplotlib inline\n",
    "import matplotlib.pyplot as plt\n",
    "from sklearn.metrics import roc_curve, auc\n",
    "\n",
    "# Plot a confusion matrix.\n",
    "# cm is the confusion matrix, names are the names of the classes.\n",
    "def plot_confusion_matrix(cm, names, title='Confusion matrix', cmap=plt.cm.Blues):\n",
    "    plt.imshow(cm, interpolation='nearest', cmap=cmap)\n",
    "    plt.title(title)\n",
    "    plt.colorbar()\n",
    "    tick_marks = np.arange(len(names))\n",
    "    plt.xticks(tick_marks, names, rotation=45)\n",
    "    plt.yticks(tick_marks, names)\n",
    "    plt.tight_layout()\n",
    "    plt.ylabel('True label')\n",
    "    plt.xlabel('Predicted label')"
   ]
  },
  {
   "cell_type": "markdown",
   "metadata": {},
   "source": [
    "## Linear Regression"
   ]
  },
  {
   "cell_type": "code",
   "execution_count": 166,
   "metadata": {
    "scrolled": false
   },
   "outputs": [
    {
     "name": "stdout",
     "output_type": "stream",
     "text": [
      "Coefficients: \n",
      " [-1.24545355e+00 -3.59317465e-01 -4.60622627e-01 -5.78865960e-01\n",
      " -5.58623620e-01 -1.70003914e-01  1.16398403e+00 -6.41631720e-02\n",
      " -3.73815259e-01  8.07880794e-02  3.25843653e-02  1.41566444e+00\n",
      " -2.91254863e-01  7.09847186e-02  3.51372293e-01  2.04182862e-01\n",
      " -3.37236000e-01  4.39322343e-01  2.00526042e-01 -1.07803618e-01\n",
      "  8.49304610e-01  1.84588599e-01 -1.45905249e+00 -5.63127920e-01\n",
      "  1.68703035e+00 -1.75600347e-01 -1.26066199e+00 -1.93002323e-01\n",
      "  1.76864142e-01  6.60766756e-01  2.85065843e-01  1.58763464e-01\n",
      " -7.00775523e-01  1.36708753e+00 -4.72648427e-01  3.05699818e-01\n",
      " -8.56463804e-02  5.10189862e-01 -7.22665958e-02 -5.24655059e-01\n",
      "  1.87857727e-01  1.06922863e-01  3.39949315e-01  6.21307035e-01\n",
      " -5.04225880e-02  5.12432285e-02 -9.42282571e-02  3.68346346e-01\n",
      " -8.53675234e-02 -3.08258640e-01  1.32009799e-01 -2.46114884e-01\n",
      "  1.05239968e-02  1.23141654e-01 -5.32347265e-01  4.09099297e-02\n",
      "  8.78198961e-03  4.12568914e-02  8.86198839e-02  5.34527068e-03\n",
      " -2.30107007e-01 -3.63972607e-01 -3.18322430e-02 -2.26291799e-02\n",
      "  1.27521321e-02  1.42920037e-01  3.08770397e-01  3.04260400e-01\n",
      " -4.77314624e-01 -4.67781123e-01  4.81504362e-02  3.33913523e-01\n",
      " -4.91694786e-01 -1.34402868e-01 -8.39869185e-01 -3.26997728e-01\n",
      "  2.92418966e-01  7.03990737e-01 -2.42668826e-01 -5.77621077e-01\n",
      " -7.65418099e-01  1.03121704e-01  2.13351601e-01  6.13038975e-02\n",
      " -4.77014036e-03 -6.28634808e-01  6.41526947e-03 -6.02939722e-02\n",
      "  3.39020089e-01 -9.89939310e-02 -1.81407426e-01 -1.48957994e-01\n",
      "  7.74910363e-02  2.25364507e-01 -8.52433923e-02 -8.06228880e-02\n",
      " -1.16562521e+00 -1.95481671e-01 -7.58424528e-03  1.07721639e+00\n",
      "  1.46344661e+00 -1.34642270e-01 -4.15782955e-01 -6.48153819e-01\n",
      "  3.34016101e-01 -5.02342604e-01 -4.69007492e-01 -8.16611005e-01\n",
      " -1.44630111e-01  6.43388137e-02 -1.83086638e-01 -6.13097233e-01\n",
      "  2.10512845e-01  6.06597336e-03 -8.37837986e-01 -1.36381603e-01\n",
      "  4.61166025e-01  5.74799740e-02  8.72176690e-02  1.50734753e-01\n",
      " -1.92833643e-01  1.10573832e-01  3.78246315e-01 -1.48479581e-01\n",
      " -2.99020834e-01 -8.29929710e-02 -1.77302424e-01 -3.72868412e-01\n",
      "  5.41039140e-02 -5.13006772e-01  4.20492852e-01  3.24866396e-01\n",
      " -3.12225235e-02 -3.45647542e-01  1.00626256e+00  1.69156379e+00\n",
      " -6.39574518e-01  3.12348823e-01 -1.07090103e+00 -1.66437711e-01\n",
      "  1.67719703e-01  2.91340463e-01 -1.31864072e-01  2.65343629e-01\n",
      " -1.00520000e-01  9.76257270e-01  3.81576706e-01  1.60843416e-01\n",
      "  9.76475516e-01  1.09556481e-01  2.51331473e-01 -7.52060870e-01\n",
      " -4.33765601e-01  1.59413723e-01 -4.36637223e-01  1.56068047e-01\n",
      " -1.38752208e-01 -3.93740407e-01  4.23167551e-01  4.49867434e-02\n",
      "  5.77079103e-01  4.87618914e-01  3.44195916e-02 -3.08055198e-01\n",
      "  1.30858166e+00  2.62015135e-01 -1.50723677e-01  4.99771756e-01\n",
      "  5.95716269e-01 -1.89015292e-01  4.24259939e-01 -5.01061478e-01\n",
      " -2.40349427e-01  1.03515540e+00 -5.24780797e-01 -5.24445818e-01\n",
      "  6.45675192e-01 -3.41952406e-01  1.48007543e+00  4.14701252e-01\n",
      " -2.10331725e-01  5.57773382e-01 -1.34490299e+00  1.12799147e-01\n",
      "  7.72402341e-01  3.38556855e-01 -4.70923701e-01  7.76530715e-01\n",
      " -1.87130286e-01  6.64859980e-02  5.32427320e-02  2.60591458e-01\n",
      "  1.25646021e-01  9.12572520e-01 -3.61985087e-01  8.91781961e-01\n",
      "  2.38632124e-01 -2.16929869e+00  1.58824284e-02 -1.16744134e-01\n",
      " -4.78566166e-01 -1.80115662e-01  3.20725622e-01  8.15917319e-02\n",
      "  2.52059507e-01  1.96687021e-02  6.17599236e-01  2.29893534e-02\n",
      " -1.13385442e-01 -1.29918612e+00 -1.03329894e+00  7.64020400e-02\n",
      "  2.64808551e-01 -9.93698359e-02  1.90475721e-01 -2.64298216e-01\n",
      "  4.20242620e-01  8.15382785e-02  7.71931659e-01 -3.87884152e-02\n",
      "  6.84167177e-01 -1.69005830e-02  1.11829079e-01 -1.70701316e-01\n",
      "  1.89694144e-01  3.67786967e-01 -7.11813132e-01 -2.26544101e-01\n",
      " -3.18634779e-01 -1.33319650e+00  3.19553403e-01  9.05129943e-01\n",
      " -1.72482343e-01 -3.96305111e-01  1.39064115e-01 -2.60547598e-01\n",
      " -4.18923511e-01  2.58072154e-01 -9.52987482e-02 -1.90601394e-01\n",
      "  4.95939189e-01 -3.23256264e-01 -4.11889060e-01 -2.33186479e-01\n",
      " -2.52142979e-01  1.10019171e-01 -3.71788906e-01 -7.12306793e-03\n",
      "  2.69724600e-01  8.33378944e-01 -1.04950765e-01  1.52530636e-01\n",
      " -3.43116059e-01  6.18643734e-02  7.24104136e-01  4.00064164e-01\n",
      " -1.49113613e-01 -5.74147608e-02 -6.05700641e-01  4.27309578e-01\n",
      " -5.09840106e-01  9.88518376e-02 -1.52162934e-01  1.50996711e-01\n",
      " -5.03339352e-01  7.66883765e-01  3.88400306e-02 -1.23815562e+00\n",
      " -6.52136902e-02 -4.32793791e-01  3.41101653e-01 -3.25817916e-01\n",
      " -2.29551468e-02  5.05280201e-01  6.89976570e-01  8.13246226e-01\n",
      "  6.90113854e-01  6.21866925e-01  6.57076759e-02  3.82389816e-01\n",
      "  1.26200623e-01  2.85396446e-02 -5.81331697e-02  1.42356369e-01\n",
      " -3.64373170e-01 -2.42409333e-02 -1.88059751e-02 -5.34189082e-01\n",
      " -5.92478279e-01  1.82800162e-01  2.21264947e-01  1.64767161e-01\n",
      " -4.11343902e-01 -5.28033577e-01 -8.66974487e-01 -8.80874223e-01\n",
      "  1.50277342e-01 -2.72669845e-01 -2.75105284e-01 -1.27729998e-01\n",
      " -2.39777432e-01 -6.53503752e-01  2.61510739e-01 -1.76289005e-02\n",
      " -7.47475989e-01  3.10924081e-01  2.51689389e-01 -1.58859824e+00\n",
      "  1.57157952e-01  2.18316268e-01  5.60608974e-01  2.36030838e-02\n",
      " -3.19915834e-01 -5.54111619e-01 -5.22070803e-01  5.69083669e-01\n",
      "  1.79827478e-01 -4.25552736e-01 -3.03495491e-01 -7.95409565e-02\n",
      " -6.66390114e-02 -4.35128766e-01  3.46191627e-01  5.59759483e-01\n",
      "  8.05888377e-01 -2.75864137e-01  5.31412246e-02 -4.05830180e-01\n",
      "  7.11944149e-02  1.42827842e-01 -6.91852003e-01  6.40089416e-01\n",
      " -3.71893521e-01  1.01759196e-01  5.50825739e-01  4.64708171e-01\n",
      "  1.55848422e-01  4.40291401e-02  8.21671250e-01  7.42229545e-01\n",
      "  2.19992981e-01  7.90696105e-01  8.33269865e-01  2.79998998e-01\n",
      " -4.22035502e-02  4.49339619e-01  2.11876371e-01 -3.35773707e-01\n",
      "  1.01351682e+00 -8.00007055e-03 -3.87689414e-01  4.37424690e-01\n",
      "  7.14949057e-01 -8.87496036e-02  1.08280576e-01  8.15272156e-01\n",
      " -3.54978461e-01  3.69856663e-01 -6.43731494e-01 -2.67189133e-01\n",
      " -9.26479090e-01 -8.31027500e-02  7.10585823e-01 -3.92153806e-01\n",
      "  8.61023800e-02 -2.59662422e-01  9.61046321e-02 -1.76157215e+00\n",
      " -6.11026548e-01 -7.90490402e-01 -6.73369043e-02  2.37976609e-01\n",
      " -4.33199257e-01  4.62515689e-01 -1.53051837e-01 -7.69158269e-01\n",
      " -2.03684250e-01 -1.95891976e-01 -3.49008469e-01 -6.12156182e-01\n",
      "  2.55191918e-01 -5.00062070e-01 -7.52096897e-02 -1.16440119e-01\n",
      "  9.78716207e-02 -6.00186709e-01 -1.06241062e-01 -1.58835377e-03\n",
      "  1.69539106e-01  3.36506157e-01  4.64490623e-01  4.10192046e-02\n",
      " -1.89768079e-01 -1.74008858e-01 -4.07663670e-01  1.67607155e-01\n",
      " -1.03389428e+00  3.16103677e-01  5.01445857e-01  1.92374567e-01\n",
      " -1.30167118e-01 -1.54978026e-01  5.14522069e-01  2.56233283e-01\n",
      " -1.47263648e-01 -2.41509658e-01  1.18036105e-01  4.10884501e-01\n",
      "  6.69806871e-02 -1.07129082e+00  2.26619764e-01 -2.56409521e-02\n",
      "  2.60455974e-02 -1.86653171e-01 -1.26131941e-01 -3.44304670e-01\n",
      "  3.72950204e-01  2.51042836e-01  5.35425582e-01  5.88166653e-01\n",
      "  3.77504107e-01 -2.46329556e-03 -1.40011423e-01  3.69922669e-02\n",
      "  5.01582962e-01 -3.38182800e-01  4.21606123e-01  8.08473397e-02\n",
      "  3.34819249e-01 -3.67196535e-01 -3.83113563e-01 -2.32291383e-01\n",
      "  6.45523932e-02 -4.97292202e-01 -2.75871075e+00 -7.25524861e-02\n",
      "  1.11212500e+00  8.30085194e-01 -4.54838736e-01  2.10595220e-01\n",
      " -3.92864613e-01  3.95560568e-01  1.49341277e-01 -3.09401842e-01\n",
      " -2.38385594e-01 -1.65958585e-01 -9.34056551e-01  1.17901668e-01\n",
      " -1.29715800e-01  5.05371060e-01 -3.95151536e-01  4.76241750e-01\n",
      "  4.29535286e-01 -2.17448819e-01 -9.54877050e-01 -4.61269053e-01\n",
      " -8.05355431e-01 -2.26589596e-01 -7.73985995e-02  1.97443302e-01\n",
      " -1.72777882e-01  4.17040570e-01  2.19748369e-01  4.83364681e-01\n",
      "  3.54223236e-01 -7.15278972e-01  2.71885507e-01 -4.03992748e-01\n",
      " -1.87802191e-01  4.04387765e-01  1.46486051e-01 -9.14580155e-02\n",
      " -3.71501762e-01  3.13117748e-01  4.89242711e-02  1.21033144e-01\n",
      "  2.73323184e-01  2.38188374e-01  1.49326712e-01 -4.33683461e-01\n",
      " -3.76753379e-01  1.97802958e-01 -6.78220752e-03 -2.12590925e-02\n",
      "  4.00818864e-02  4.72213505e-02 -2.74771519e-01  1.13371311e+00\n",
      "  4.83207778e-01  2.57655448e-01 -3.23684000e+00  6.06137943e-01\n",
      " -5.36015075e-01  9.14769055e-02  2.33818660e-01 -2.01950475e-01\n",
      "  6.00871619e-01  1.03801227e+00  2.15647751e-01  1.04350157e+00\n",
      "  5.06025535e-01]\n",
      "Mean squared error: 0.31\n",
      "Variance score: 0.70\n"
     ]
    }
   ],
   "source": [
    "#Linear Regression\n",
    "from sklearn import datasets, linear_model\n",
    "from sklearn.metrics import mean_squared_error, r2_score\n",
    "import matplotlib.pyplot as plt\n",
    "from sklearn.model_selection import train_test_split\n",
    "\n",
    "XTrain, XTest, YTrain, YTest = train_test_split(x, y, test_size=0.2, random_state=42)\n",
    "\n",
    "regr = linear_model.LinearRegression()\n",
    "regr.fit(XTrain, YTrain)\n",
    "liReg_pred = regr.predict(XTest)\n",
    "\n",
    "print('Coefficients: \\n', regr.coef_)\n",
    "print(\"Mean squared error: %.2f\"\n",
    "      % mean_squared_error(YTest, liReg_pred))\n",
    "print('Variance score: %.2f' % r2_score(YTest, liReg_pred))"
   ]
  },
  {
   "cell_type": "code",
   "execution_count": 167,
   "metadata": {},
   "outputs": [
    {
     "name": "stdout",
     "output_type": "stream",
     "text": [
      "      Business id      | actual stars | predicted stars\n",
      "Apn5Q_b6Nz61Tq4XzPdf9A |         4    |          5\n",
      "AjEbIBw6ZFfln7ePHha9PA |         3    |          2\n",
      "O8S5hYJ1SMc8fA4QBtVujA |         4    |          3\n",
      "bFzdJJ3wp3PZssNEsyU23g |         4    |          3\n",
      "8USyCYqpScwiNEb58Bt6CA |         3    |          3\n"
     ]
    }
   ],
   "source": [
    "predy=regr.predict(testx)\n",
    "print(\"      Business id      | actual stars | predicted stars\")\n",
    "print(\"-----------------------|--------------|----------------\")\n",
    "for i in range(0,5):   \n",
    "   print(\"%s |%10d    | %10d\"\n",
    "         %(b_id[i], testy[i], predy[i]))"
   ]
  },
  {
   "cell_type": "markdown",
   "metadata": {},
   "source": [
    "### Applying Label Encoding on stars for classification models"
   ]
  },
  {
   "cell_type": "code",
   "execution_count": 168,
   "metadata": {},
   "outputs": [],
   "source": [
    "# Encode text values to indexes(i.e. [1],[2],[3] for red,green,blue).\n",
    "def encode_text_index(df, name):\n",
    "    le = preprocessing.LabelEncoder()\n",
    "    df[name] = le.fit_transform(df[name])\n",
    "    return le.classes_"
   ]
  },
  {
   "cell_type": "code",
   "execution_count": 180,
   "metadata": {},
   "outputs": [],
   "source": [
    "import collections\n",
    "from sklearn import preprocessing\n",
    "import matplotlib.pyplot as plt\n",
    "import numpy as np\n",
    "import pandas as pd\n",
    "import shutil\n",
    "import os\n",
    "stars=encode_text_index(df_review_business,\"stars\")   # label encoding"
   ]
  },
  {
   "cell_type": "code",
   "execution_count": 181,
   "metadata": {},
   "outputs": [],
   "source": [
    "finalx=x\n",
    "y = df_review_business['stars'].values\n",
    "testy = y[0:5]\n",
    "finaly=y[5:10000]\n"
   ]
  },
  {
   "cell_type": "code",
   "execution_count": 182,
   "metadata": {},
   "outputs": [],
   "source": [
    "from sklearn.model_selection import train_test_split\n",
    "X_Train, X_Test, Y_Train, Y_Test = train_test_split(finalx, finaly, test_size=0.2, random_state=42)"
   ]
  },
  {
   "cell_type": "markdown",
   "metadata": {},
   "source": [
    "## Logistic Regression"
   ]
  },
  {
   "cell_type": "code",
   "execution_count": 183,
   "metadata": {},
   "outputs": [
    {
     "name": "stdout",
     "output_type": "stream",
     "text": [
      "Final accuracy: 0.3711855927963982\n",
      "[[ 14   1  10  13   0   3   1   0   0]\n",
      " [  4   2   5  28   3   6   3   1   0]\n",
      " [  5   1   6  36  31  24   5   2   1]\n",
      " [  4   0   6  52  49  64  15   2   4]\n",
      " [  0   0   1  31  59 113  43   5   6]\n",
      " [  0   0   0  17  43 125 100  19  47]\n",
      " [  0   0   0   5  15  92 174  46  45]\n",
      " [  0   0   0   2   1  28 112  52  87]\n",
      " [  0   0   0   2   1  11  20  38 258]]\n",
      "Plotting confusion matrix\n"
     ]
    },
    {
     "data": {
      "image/png": "[encoded data removed]",
      "text/plain": [
       "<Figure size 432x288 with 2 Axes>"
      ]
     },
     "metadata": {},
     "output_type": "display_data"
    },
    {
     "name": "stdout",
     "output_type": "stream",
     "text": [
      "             precision    recall  f1-score   support\n",
      "\n",
      "          0       0.52      0.33      0.41        42\n",
      "          1       0.50      0.04      0.07        52\n",
      "          2       0.21      0.05      0.09       111\n",
      "          3       0.28      0.27      0.27       196\n",
      "          4       0.29      0.23      0.26       258\n",
      "          5       0.27      0.36      0.31       351\n",
      "          6       0.37      0.46      0.41       377\n",
      "          7       0.32      0.18      0.23       282\n",
      "          8       0.58      0.78      0.66       330\n",
      "\n",
      "avg / total       0.36      0.37      0.35      1999\n",
      "\n",
      "      Business id      | actual stars | predicted stars\n",
      "-----------------------|--------------|----------------\n",
      "Apn5Q_b6Nz61Tq4XzPdf9A |         7    |          7\n",
      "AjEbIBw6ZFfln7ePHha9PA |         4    |          5\n",
      "O8S5hYJ1SMc8fA4QBtVujA |         7    |          6\n",
      "bFzdJJ3wp3PZssNEsyU23g |         6    |          6\n",
      "8USyCYqpScwiNEb58Bt6CA |         5    |          6\n"
     ]
    }
   ],
   "source": [
    "#Logistic Reg\n",
    "\n",
    "# import the class\n",
    "from sklearn.linear_model import LogisticRegression\n",
    "import sklearn.metrics as metrics\n",
    "# instantiate the model (using the default parameters)\n",
    "logreg = LogisticRegression()\n",
    "\n",
    "# fit the model with data\n",
    "logreg.fit(X_Train, Y_Train)\n",
    "\n",
    "# predict the response for new observations\n",
    "logreg_pred = logreg.predict(X_Test)\n",
    "\n",
    "#accuracy\n",
    "score = metrics.accuracy_score(Y_Test, logreg_pred)\n",
    "print(\"Final accuracy: {}\".format(score))\n",
    "\n",
    "cm = metrics.confusion_matrix(Y_Test, logreg_pred)  \n",
    "print(cm)\n",
    "\n",
    "print('Plotting confusion matrix')\n",
    "\n",
    "plt.figure()\n",
    "plot_confusion_matrix(cm, stars)\n",
    "plt.show()\n",
    "\n",
    "print(metrics.classification_report(Y_Test, logreg_pred))\n",
    "\n",
    "predy=logreg.predict(testx)\n",
    "print(\"      Business id      | actual stars | predicted stars\")\n",
    "print(\"-----------------------|--------------|----------------\")\n",
    "for i in range(0,5):   \n",
    "   print(\"%s |%10d    | %10d\"\n",
    "         %(b_id[i], testy[i], predy[i]))"
   ]
  },
  {
   "cell_type": "markdown",
   "metadata": {},
   "source": [
    "## Support Vector Machine"
   ]
  },
  {
   "cell_type": "code",
   "execution_count": 184,
   "metadata": {},
   "outputs": [
    {
     "name": "stdout",
     "output_type": "stream",
     "text": [
      "Final accuracy: 0.4307153576788394\n",
      "[[ 14   4   8  13   0   2   1   0   0]\n",
      " [  5   3  12  25   1   5   1   0   0]\n",
      " [  6   2  12  58  19  13   0   0   1]\n",
      " [  7   2   8  78  54  41   4   2   0]\n",
      " [  1   0   7  44  76 102  24   2   2]\n",
      " [  0   0   1  21  44 172  72  16  25]\n",
      " [  0   0   0   6  14 103 179  53  22]\n",
      " [  0   0   0   0   0  30 105  85  62]\n",
      " [  0   0   0   2   1  13  23  49 242]]\n",
      "Plotting confusion matrix\n"
     ]
    },
    {
     "data": {
      "image/png": "[encoded data removed]",
      "text/plain": [
       "<Figure size 432x288 with 2 Axes>"
      ]
     },
     "metadata": {},
     "output_type": "display_data"
    },
    {
     "name": "stdout",
     "output_type": "stream",
     "text": [
      "             precision    recall  f1-score   support\n",
      "\n",
      "          0       0.42      0.33      0.37        42\n",
      "          1       0.27      0.06      0.10        52\n",
      "          2       0.25      0.11      0.15       111\n",
      "          3       0.32      0.40      0.35       196\n",
      "          4       0.36      0.29      0.33       258\n",
      "          5       0.36      0.49      0.41       351\n",
      "          6       0.44      0.47      0.46       377\n",
      "          7       0.41      0.30      0.35       282\n",
      "          8       0.68      0.73      0.71       330\n",
      "\n",
      "avg / total       0.42      0.43      0.42      1999\n",
      "\n",
      "      Business id      | actual stars | predicted stars\n",
      "-----------------------|--------------|----------------\n",
      "Apn5Q_b6Nz61Tq4XzPdf9A |         7    |          7\n",
      "AjEbIBw6ZFfln7ePHha9PA |         4    |          5\n",
      "O8S5hYJ1SMc8fA4QBtVujA |         7    |          6\n",
      "bFzdJJ3wp3PZssNEsyU23g |         6    |          6\n",
      "8USyCYqpScwiNEb58Bt6CA |         5    |          6\n"
     ]
    }
   ],
   "source": [
    "#SVM\n",
    "\n",
    "from sklearn.svm import SVC\n",
    "import sklearn.metrics as metrics\n",
    "\n",
    "clf = SVC(kernel='linear')\n",
    "clf.fit(X_Train, Y_Train)\n",
    "\n",
    "svm_pred = clf.predict(X_Test)\n",
    "\n",
    "#accuracy\n",
    "score = metrics.accuracy_score(Y_Test, svm_pred)\n",
    "print(\"Final accuracy: {}\".format(score))\n",
    "\n",
    "cm = metrics.confusion_matrix(Y_Test, svm_pred)  \n",
    "print(cm)\n",
    "\n",
    "print('Plotting confusion matrix')\n",
    "\n",
    "plt.figure()\n",
    "plot_confusion_matrix(cm, stars)\n",
    "plt.show()\n",
    "\n",
    "print(metrics.classification_report(Y_Test, svm_pred))\n",
    "\n",
    "predy=clf.predict(testx)\n",
    "print(\"      Business id      | actual stars | predicted stars\")\n",
    "print(\"-----------------------|--------------|----------------\")\n",
    "for i in range(0,5):   \n",
    "   print(\"%s |%10d    | %10d\"\n",
    "         %(b_id[i], testy[i], predy[i]))"
   ]
  },
  {
   "cell_type": "markdown",
   "metadata": {},
   "source": [
    "## Nearest Neighbor "
   ]
  },
  {
   "cell_type": "code",
   "execution_count": 185,
   "metadata": {},
   "outputs": [
    {
     "name": "stdout",
     "output_type": "stream",
     "text": [
      "Final accuracy: 0.28864432216108055\n",
      "[[  7   8  14   4   5   2   0   2   0]\n",
      " [  1   8  13  11   8   4   2   5   0]\n",
      " [  1  12  16  18  27  20  12   5   0]\n",
      " [  7   8  21  39  41  45  24   8   3]\n",
      " [  1   5  13  32  66  71  47  12  11]\n",
      " [  3   4   8  27  61 118  79  39  12]\n",
      " [  0   3  10  13  25 102 137  65  22]\n",
      " [  0   0   2   7  11  49 106  68  39]\n",
      " [  0   2   7   3   6  24  63 107 118]]\n",
      "Plotting confusion matrix\n"
     ]
    },
    {
     "data": {
      "image/png": "[encoded data removed]",
      "text/plain": [
       "<Figure size 432x288 with 2 Axes>"
      ]
     },
     "metadata": {},
     "output_type": "display_data"
    },
    {
     "name": "stdout",
     "output_type": "stream",
     "text": [
      "             precision    recall  f1-score   support\n",
      "\n",
      "          0       0.35      0.17      0.23        42\n",
      "          1       0.16      0.15      0.16        52\n",
      "          2       0.15      0.14      0.15       111\n",
      "          3       0.25      0.20      0.22       196\n",
      "          4       0.26      0.26      0.26       258\n",
      "          5       0.27      0.34      0.30       351\n",
      "          6       0.29      0.36      0.32       377\n",
      "          7       0.22      0.24      0.23       282\n",
      "          8       0.58      0.36      0.44       330\n",
      "\n",
      "avg / total       0.31      0.29      0.29      1999\n",
      "\n",
      "      Business id      | actual stars | predicted stars\n",
      "-----------------------|--------------|----------------\n",
      "Apn5Q_b6Nz61Tq4XzPdf9A |         7    |          6\n",
      "AjEbIBw6ZFfln7ePHha9PA |         4    |          3\n",
      "O8S5hYJ1SMc8fA4QBtVujA |         7    |          5\n",
      "bFzdJJ3wp3PZssNEsyU23g |         6    |          6\n",
      "8USyCYqpScwiNEb58Bt6CA |         5    |          4\n"
     ]
    }
   ],
   "source": [
    "# Nearnest Neighbor\n",
    "\n",
    "from sklearn.neighbors import KNeighborsClassifier\n",
    "import sklearn.metrics as metrics\n",
    "\n",
    "knn = KNeighborsClassifier(n_neighbors=5)\n",
    "knn.fit(X_Train, Y_Train)\n",
    "knn_pred = knn.predict(X_Test)\n",
    "knn_pred\n",
    "\n",
    "#accuracy\n",
    "score = metrics.accuracy_score(Y_Test, knn_pred)\n",
    "print(\"Final accuracy: {}\".format(score))\n",
    "\n",
    "cm = metrics.confusion_matrix(Y_Test, knn_pred)  \n",
    "print(cm)\n",
    "\n",
    "print('Plotting confusion matrix')\n",
    "\n",
    "plt.figure()\n",
    "plot_confusion_matrix(cm, stars)\n",
    "plt.show()\n",
    "\n",
    "print(metrics.classification_report(Y_Test, knn_pred))\n",
    "\n",
    "predy=knn.predict(testx)\n",
    "print(\"      Business id      | actual stars | predicted stars\")\n",
    "print(\"-----------------------|--------------|----------------\")\n",
    "for i in range(0,5):   \n",
    "   print(\"%s |%10d    | %10d\"\n",
    "         %(b_id[i], testy[i], predy[i]))"
   ]
  },
  {
   "cell_type": "markdown",
   "metadata": {},
   "source": [
    "## Multinomial Naive Bayes "
   ]
  },
  {
   "cell_type": "code",
   "execution_count": 178,
   "metadata": {
    "scrolled": false
   },
   "outputs": [
    {
     "name": "stdout",
     "output_type": "stream",
     "text": [
      "Final accuracy: 0.32716358179089544\n",
      "[[ 12   1   0  15   1   5   1   0   7]\n",
      " [  9   1   0  28   2   7   1   0   4]\n",
      " [  5   1   1  36   9  36   6   3  14]\n",
      " [  6   0   0  52  17  72  21   2  26]\n",
      " [  1   0   0  36  11 124  37  13  36]\n",
      " [  0   0   0  19   6 118  98  17  93]\n",
      " [  0   0   0   2   1  79 166  34  95]\n",
      " [  0   0   0   1   0  18 114  21 128]\n",
      " [  0   0   0   1   0   4  38  15 272]]\n",
      "Plotting confusion matrix\n"
     ]
    },
    {
     "data": {
      "image/png": "[encoded data removed]",
      "text/plain": [
       "<Figure size 432x288 with 2 Axes>"
      ]
     },
     "metadata": {},
     "output_type": "display_data"
    },
    {
     "name": "stdout",
     "output_type": "stream",
     "text": [
      "             precision    recall  f1-score   support\n",
      "\n",
      "          0       0.36      0.29      0.32        42\n",
      "          1       0.33      0.02      0.04        52\n",
      "          2       1.00      0.01      0.02       111\n",
      "          3       0.27      0.27      0.27       196\n",
      "          4       0.23      0.04      0.07       258\n",
      "          5       0.25      0.34      0.29       351\n",
      "          6       0.34      0.44      0.39       377\n",
      "          7       0.20      0.07      0.11       282\n",
      "          8       0.40      0.82      0.54       330\n",
      "\n",
      "avg / total       0.33      0.33      0.27      1999\n",
      "\n",
      "      Business id      | actual stars | predicted stars\n",
      "-------------------------------------------------------\n",
      "Apn5Q_b6Nz61Tq4XzPdf9A |         7    |          8\n",
      "AjEbIBw6ZFfln7ePHha9PA |         4    |          5\n",
      "O8S5hYJ1SMc8fA4QBtVujA |         7    |          6\n",
      "bFzdJJ3wp3PZssNEsyU23g |         6    |          6\n",
      "8USyCYqpScwiNEb58Bt6CA |         5    |          6\n"
     ]
    }
   ],
   "source": [
    "#Multinomial Naive Bayes\n",
    "from sklearn.naive_bayes import MultinomialNB\n",
    "import sklearn.metrics as metrics\n",
    "clf = MultinomialNB()\n",
    "clf.fit(X_Train, Y_Train)\n",
    "mnb_pred = clf.predict(X_Test)\n",
    "\n",
    "#accuracy\n",
    "score = metrics.accuracy_score(Y_Test, mnb_pred)\n",
    "print(\"Final accuracy: {}\".format(score))\n",
    "\n",
    "cm = metrics.confusion_matrix(Y_Test, mnb_pred)  \n",
    "print(cm)\n",
    "\n",
    "print('Plotting confusion matrix')\n",
    "\n",
    "plt.figure()\n",
    "plot_confusion_matrix(cm, stars)\n",
    "plt.show()\n",
    "\n",
    "print(metrics.classification_report(Y_Test, mnb_pred))\n",
    "\n",
    "predy=clf.predict(testx)\n",
    "print(\"      Business id      | actual stars | predicted stars\")\n",
    "print(\"-----------------------|--------------|----------------\")\n",
    "for i in range(0,5):   \n",
    "   print(\"%s |%10d    | %10d\"\n",
    "         %(b_id[i], testy[i], predy[i]))"
   ]
  },
  {
   "cell_type": "code",
   "execution_count": 179,
   "metadata": {},
   "outputs": [
    {
     "data": {
      "text/plain": [
       "array([0, 1, 2, 3, 4, 5, 6, 7, 8])"
      ]
     },
     "execution_count": 179,
     "metadata": {},
     "output_type": "execute_result"
    }
   ],
   "source": [
    "np.arange(len(stars))"
   ]
  },
  {
   "cell_type": "code",
   "execution_count": null,
   "metadata": {},
   "outputs": [],
   "source": []
  }
 ],
 "metadata": {
  "kernelspec": {
   "display_name": "Python 3",
   "language": "python",
   "name": "python3"
  },
  "language_info": {
   "codemirror_mode": {
    "name": "ipython",
    "version": 3
   },
   "file_extension": ".py",
   "mimetype": "text/x-python",
   "name": "python",
   "nbconvert_exporter": "python",
   "pygments_lexer": "ipython3",
   "version": "3.6.5"
  }
 },
 "nbformat": 4,
 "nbformat_minor": 2
}
